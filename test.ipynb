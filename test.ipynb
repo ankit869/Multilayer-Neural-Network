{
 "cells": [
  {
   "cell_type": "code",
   "execution_count": 29,
   "metadata": {},
   "outputs": [
    {
     "name": "stdout",
     "output_type": "stream",
     "text": [
      "\n",
      "                                       ( MODEL SUMMARY )                                \n",
      "        \n",
      "        ==================================================================================\n",
      "               Layer        Activation Function     Output Shape           Params       \n",
      "        ==================================================================================\n",
      "\n",
      "          Conv_2D (Input)           relu        (None, 254, 254, 32)        896         \n",
      "        ----------------------------------------------------------------------------------\n",
      "\n",
      "              Pool_2D              linear       (None, 127, 127, 32)         0          \n",
      "        ----------------------------------------------------------------------------------\n",
      "\n",
      "              Conv_2D               relu        (None, 125, 125, 64)       18496        \n",
      "        ----------------------------------------------------------------------------------\n",
      "\n",
      "              Pool_2D              linear        (None, 62, 62, 64)          0          \n",
      "        ----------------------------------------------------------------------------------\n",
      "\n",
      "              Conv_2D               relu        (None, 60, 60, 128)        73856        \n",
      "        ----------------------------------------------------------------------------------\n",
      "\n",
      "              Pool_2D              linear       (None, 30, 30, 128)          0          \n",
      "        ----------------------------------------------------------------------------------\n",
      "\n",
      "            Conv_flatten           linear          (None, 115200)            0          \n",
      "        ----------------------------------------------------------------------------------\n",
      "\n",
      "               Dense                relu            (None, 128)           14745728      \n",
      "        ----------------------------------------------------------------------------------\n",
      "\n",
      "               Dense                relu             (None, 64)             8256        \n",
      "        ----------------------------------------------------------------------------------\n",
      "\n",
      "               Dense              sigmoid            (None, 1)               65         \n",
      "        ----------------------------------------------------------------------------------\n",
      "\n",
      "        ==================================================================================\n",
      "\n",
      "        Total Params (trainable) - 14847297\n",
      "        __________________________________________________________________________________\n",
      "        \n"
     ]
    }
   ],
   "source": [
    "from mlp import MultiLayerNeuralNetwork\n",
    "model=MultiLayerNeuralNetwork()\n",
    "model.add_conv2d_layer(nfilters=32,kernel_size=(3,3),input_shape=(256,256,3),padding='valid')\n",
    "model.add_pool2d_layer(strides=2)\n",
    "model.add_conv2d_layer(nfilters=64,kernel_size=(3,3),activation_function=\"relu\",padding='valid')\n",
    "model.add_pool2d_layer(strides=2)\n",
    "model.add_conv2d_layer(nfilters=128,kernel_size=(3,3),activation_function=\"relu\",padding='valid')\n",
    "model.add_pool2d_layer(strides=2)\n",
    "model.add_layer(conv_flatten_input=True)\n",
    "model.add_layer(nodes=128,activation_function=\"relu\")\n",
    "model.add_layer(nodes=64,activation_function=\"relu\")\n",
    "model.add_layer(nodes=1,activation_function=\"sigmoid\")\n",
    "model.compile_model()"
   ]
  },
  {
   "cell_type": "code",
   "execution_count": 16,
   "metadata": {},
   "outputs": [
    {
     "name": "stdout",
     "output_type": "stream",
     "text": [
      "(3, 3, 3, 32)\n",
      "(3, 3, 32, 64)\n",
      "(3, 3, 64, 128)\n"
     ]
    }
   ],
   "source": [
    "for i in model.c_weights:\n",
    "    print(i.shape)"
   ]
  },
  {
   "cell_type": "code",
   "execution_count": 28,
   "metadata": {},
   "outputs": [
    {
     "data": {
      "text/plain": [
       "[{'input_shape': (256, 256, 3),\n",
       "  'nfilters': 32,\n",
       "  'kernel_size': (3, 3),\n",
       "  'output_shape': (None, 254, 254, 32),\n",
       "  'activation_function': 'relu',\n",
       "  'padding': 'valid',\n",
       "  'strides': 1,\n",
       "  'pad_size': 1,\n",
       "  'type': 'Conv_2D (Input)',\n",
       "  'params': 896},\n",
       " {'input_shape': (None, 254, 254, 32),\n",
       "  'pool_type': 'max',\n",
       "  'size': (2, 2),\n",
       "  'output_shape': (None, 127, 127, 32),\n",
       "  'activation_function': 'linear',\n",
       "  'padding': 'valid',\n",
       "  'strides': 2,\n",
       "  'pad_size': 1,\n",
       "  'type': 'Pool_2D',\n",
       "  'params': 0},\n",
       " {'input_shape': (None, 127, 127, 32),\n",
       "  'nfilters': 64,\n",
       "  'kernel_size': (3, 3),\n",
       "  'output_shape': (None, 125, 125, 64),\n",
       "  'activation_function': 'relu',\n",
       "  'padding': 'valid',\n",
       "  'strides': 1,\n",
       "  'pad_size': 1,\n",
       "  'type': 'Conv_2D',\n",
       "  'params': 18496},\n",
       " {'input_shape': (None, 125, 125, 64),\n",
       "  'pool_type': 'max',\n",
       "  'size': (2, 2),\n",
       "  'output_shape': (None, 62, 62, 64),\n",
       "  'activation_function': 'linear',\n",
       "  'padding': 'valid',\n",
       "  'strides': 2,\n",
       "  'pad_size': 1,\n",
       "  'type': 'Pool_2D',\n",
       "  'params': 0},\n",
       " {'input_shape': (None, 62, 62, 64),\n",
       "  'nfilters': 128,\n",
       "  'kernel_size': (3, 3),\n",
       "  'output_shape': (None, 60, 60, 128),\n",
       "  'activation_function': 'relu',\n",
       "  'padding': 'valid',\n",
       "  'strides': 1,\n",
       "  'pad_size': 1,\n",
       "  'type': 'Conv_2D',\n",
       "  'params': 73856},\n",
       " {'input_shape': (None, 60, 60, 128),\n",
       "  'pool_type': 'max',\n",
       "  'size': (2, 2),\n",
       "  'output_shape': (None, 30, 30, 128),\n",
       "  'activation_function': 'linear',\n",
       "  'padding': 'valid',\n",
       "  'strides': 2,\n",
       "  'pad_size': 1,\n",
       "  'type': 'Pool_2D',\n",
       "  'params': 0}]"
      ]
     },
     "execution_count": 28,
     "metadata": {},
     "output_type": "execute_result"
    }
   ],
   "source": [
    "model.c_layers"
   ]
  },
  {
   "cell_type": "code",
   "execution_count": 24,
   "metadata": {},
   "outputs": [
    {
     "data": {
      "text/plain": [
       "array([[[-0.09192091,  0.07479371,  0.09341311],\n",
       "        [ 0.09181513,  0.12158695, -0.01191449],\n",
       "        [ 0.00717475, -0.09745471,  0.04414291]],\n",
       "\n",
       "       [[-0.09133872,  0.09629858, -0.10140043],\n",
       "        [-0.00801014,  0.07322028, -0.02655403],\n",
       "        [-0.05129689, -0.00073515,  0.049884  ]],\n",
       "\n",
       "       [[ 0.05298775,  0.07799498,  0.07166219],\n",
       "        [-0.02395301, -0.03816758, -0.10375985],\n",
       "        [ 0.10916874,  0.02111001, -0.06802622]]])"
      ]
     },
     "execution_count": 24,
     "metadata": {},
     "output_type": "execute_result"
    }
   ],
   "source": [
    "model.c_weights[0][:,:,:,0]"
   ]
  },
  {
   "cell_type": "code",
   "execution_count": null,
   "metadata": {},
   "outputs": [],
   "source": []
  }
 ],
 "metadata": {
  "kernelspec": {
   "display_name": "Python 3.10.4 64-bit",
   "language": "python",
   "name": "python3"
  },
  "language_info": {
   "codemirror_mode": {
    "name": "ipython",
    "version": 3
   },
   "file_extension": ".py",
   "mimetype": "text/x-python",
   "name": "python",
   "nbconvert_exporter": "python",
   "pygments_lexer": "ipython3",
   "version": "3.10.4"
  },
  "orig_nbformat": 4,
  "vscode": {
   "interpreter": {
    "hash": "76d7c06053c3456e5600312cec90888656fc0ed30c03d8425b9dac6e4fc8e014"
   }
  }
 },
 "nbformat": 4,
 "nbformat_minor": 2
}
