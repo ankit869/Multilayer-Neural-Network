{
 "cells": [
  {
   "cell_type": "code",
   "execution_count": 15,
   "metadata": {},
   "outputs": [
    {
     "name": "stdout",
     "output_type": "stream",
     "text": [
      "\n",
      "                                       ( MODEL SUMMARY )                                \n",
      "        \n",
      "        ==================================================================================\n",
      "               Layer        Activation Function     Output Shape           Params       \n",
      "        ==================================================================================\n",
      "\n",
      "          Conv_2D (Input)          linear        (None, 26, 26, 64)         640         \n",
      "        ----------------------------------------------------------------------------------\n",
      "\n",
      "              Pool_2D              linear        (None, 13, 13, 64)          0          \n",
      "        ----------------------------------------------------------------------------------\n",
      "\n",
      "              Conv_2D               relu        (None, 11, 11, 128)        73856        \n",
      "        ----------------------------------------------------------------------------------\n",
      "\n",
      "              Pool_2D              linear        (None, 5, 5, 128)           0          \n",
      "        ----------------------------------------------------------------------------------\n",
      "\n",
      "        ==================================================================================\n",
      "\n",
      "        Total Params (trainable) - 74496\n",
      "        __________________________________________________________________________________\n",
      "        \n"
     ]
    }
   ],
   "source": [
    "from mlp import MultiLayerNeuralNetwork\n",
    "model=MultiLayerNeuralNetwork()\n",
    "model.add_conv2d_layer(nfilters=64,kernel_size=(3,3),input_shape=(28,28),padding='valid',activation_function='linear')\n",
    "model.add_pool2d_layer(strides=2)\n",
    "model.add_conv2d_layer(nfilters=128,kernel_size=(3,3),padding='valid')\n",
    "model.add_pool2d_layer(strides=2)\n",
    "model.compile_model()"
   ]
  },
  {
   "cell_type": "code",
   "execution_count": 16,
   "metadata": {},
   "outputs": [
    {
     "name": "stdout",
     "output_type": "stream",
     "text": [
      "(3, 3, 64)\n",
      "(3, 3, 64, 128)\n"
     ]
    }
   ],
   "source": [
    "for i in model.c_weights:\n",
    "    print(i.shape)"
   ]
  },
  {
   "cell_type": "code",
   "execution_count": 17,
   "metadata": {},
   "outputs": [],
   "source": [
    "import pandas as pd\n",
    "import numpy as np\n",
    "from sklearn.model_selection import train_test_split\n",
    "from sklearn.metrics import accuracy_score\n",
    "df=pd.read_csv('./datasets/digit_pixels.csv')"
   ]
  },
  {
   "cell_type": "code",
   "execution_count": 18,
   "metadata": {},
   "outputs": [
    {
     "data": {
      "image/png": "[encoded data removed]",
      "text/plain": [
       "<Figure size 640x480 with 1 Axes>"
      ]
     },
     "metadata": {},
     "output_type": "display_data"
    },
    {
     "name": "stdout",
     "output_type": "stream",
     "text": [
      "label -->8\n"
     ]
    }
   ],
   "source": [
    "import plotly.express as px\n",
    "from matplotlib import pyplot as plt\n",
    "X = df.iloc[:, 1:].values\n",
    "Y = df.iloc[:, 0].values\n",
    "img = X[10].reshape(28,28)\n",
    "plt.imshow(img)\n",
    "plt.show()\n",
    "print('label -->'+str(Y[10]))\n",
    "Y=np.array(pd.get_dummies(Y))\n"
   ]
  },
  {
   "cell_type": "code",
   "execution_count": 19,
   "metadata": {},
   "outputs": [],
   "source": [
    "test=[0,0,0,0]\n",
    "test[0]=X[0].reshape(28,28)\n",
    "test[1]=X[1].reshape(28,28)\n",
    "test[2]=X[2].reshape(28,28)\n",
    "test[3]=X[3].reshape(28,28)\n",
    "test=np.array(test)"
   ]
  },
  {
   "cell_type": "code",
   "execution_count": 20,
   "metadata": {},
   "outputs": [
    {
     "data": {
      "text/plain": [
       "(11, 11, 128)"
      ]
     },
     "execution_count": 20,
     "metadata": {},
     "output_type": "execute_result"
    }
   ],
   "source": [
    "model.c_activations[1].shape"
   ]
  },
  {
   "cell_type": "code",
   "execution_count": 22,
   "metadata": {},
   "outputs": [
    {
     "name": "stdout",
     "output_type": "stream",
     "text": [
      "(5, 5, 128)\n"
     ]
    }
   ],
   "source": [
    "model.fit(test,Y[0:4])"
   ]
  },
  {
   "cell_type": "code",
   "execution_count": 11,
   "metadata": {},
   "outputs": [],
   "source": [
    "# import tensorflow\n",
    "# from tensorflow import keras\n",
    "# from keras import Sequential\n",
    "# from keras.layers import Dense,Conv2D,MaxPooling2D,Flatten\n",
    "# model = Sequential()\n",
    "# model.add(Conv2D(32, activation='relu',kernel_size=(3,3),padding='valid',input_shape=(256,256,3)))\n",
    "# model.add(MaxPooling2D(pool_size=(2,2),padding='valid'))\n",
    "# model.add(Conv2D(64, activation='relu',kernel_size=(3,3),padding='valid'))\n",
    "# model.add(MaxPooling2D(pool_size=(2,2),padding='valid'))\n",
    "# model.add(Conv2D(128, activation='relu',kernel_size=(3,3),padding='valid'))\n",
    "# model.add(MaxPooling2D(pool_size=(2,2),padding='valid'))\n",
    "\n",
    "# model.add(Flatten())\n",
    "# model.add(Dense(128,activation='relu'))\n",
    "# model.add(Dense(64,activation='relu'))\n",
    "# model.add(Dense(1,activation='sigmoid'))\n",
    "# model.compile(loss='CategoricalCrossentropy', metrics=['mse'])\n",
    "# model.summary()\n"
   ]
  },
  {
   "cell_type": "code",
   "execution_count": null,
   "metadata": {},
   "outputs": [],
   "source": []
  }
 ],
 "metadata": {
  "kernelspec": {
   "display_name": "Python 3.10.4 64-bit",
   "language": "python",
   "name": "python3"
  },
  "language_info": {
   "codemirror_mode": {
    "name": "ipython",
    "version": 3
   },
   "file_extension": ".py",
   "mimetype": "text/x-python",
   "name": "python",
   "nbconvert_exporter": "python",
   "pygments_lexer": "ipython3",
   "version": "3.10.4"
  },
  "orig_nbformat": 4,
  "vscode": {
   "interpreter": {
    "hash": "76d7c06053c3456e5600312cec90888656fc0ed30c03d8425b9dac6e4fc8e014"
   }
  }
 },
 "nbformat": 4,
 "nbformat_minor": 2
}
