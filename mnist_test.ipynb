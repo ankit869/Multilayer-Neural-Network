{
 "cells": [
  {
   "cell_type": "code",
   "execution_count": 1,
   "metadata": {},
   "outputs": [],
   "source": [
    "import numpy as np\n",
    "import pandas as pd\n",
    "from mlp import MultiLayerNeuralNetwork"
   ]
  },
  {
   "cell_type": "code",
   "execution_count": 2,
   "metadata": {},
   "outputs": [],
   "source": [
    "from sklearn.model_selection import train_test_split\n",
    "from sklearn.metrics import accuracy_score\n",
    "df=pd.read_csv('./datasets/digit_pixels.csv')"
   ]
  },
  {
   "cell_type": "code",
   "execution_count": 3,
   "metadata": {},
   "outputs": [
    {
     "data": {
      "image/png": "[encoded data removed]",
      "text/plain": [
       "<Figure size 640x480 with 1 Axes>"
      ]
     },
     "metadata": {},
     "output_type": "display_data"
    },
    {
     "name": "stdout",
     "output_type": "stream",
     "text": [
      "label -->8\n"
     ]
    }
   ],
   "source": [
    "import plotly.express as px\n",
    "from matplotlib import pyplot as plt\n",
    "X = df.iloc[:, 1:].values\n",
    "Y = df.iloc[:, 0].values\n",
    "img = X[10].reshape(28,28)\n",
    "plt.imshow(img)\n",
    "plt.show()\n",
    "print('label -->'+str(Y[10]))\n",
    "Y=np.array(pd.get_dummies(Y))\n"
   ]
  },
  {
   "cell_type": "code",
   "execution_count": 4,
   "metadata": {},
   "outputs": [
    {
     "data": {
      "text/plain": [
       "(42000, 784)"
      ]
     },
     "execution_count": 4,
     "metadata": {},
     "output_type": "execute_result"
    }
   ],
   "source": [
    "X.shape"
   ]
  },
  {
   "cell_type": "code",
   "execution_count": 5,
   "metadata": {},
   "outputs": [],
   "source": [
    "X_train,X_test,Y_train,Y_test=train_test_split(X,Y,test_size=0.2)"
   ]
  },
  {
   "cell_type": "code",
   "execution_count": 6,
   "metadata": {},
   "outputs": [
    {
     "data": {
      "text/plain": [
       "(33600, 10)"
      ]
     },
     "execution_count": 6,
     "metadata": {},
     "output_type": "execute_result"
    }
   ],
   "source": [
    "Y_train.shape"
   ]
  },
  {
   "cell_type": "code",
   "execution_count": 7,
   "metadata": {},
   "outputs": [
    {
     "data": {
      "text/plain": [
       "(33600, 784)"
      ]
     },
     "execution_count": 7,
     "metadata": {},
     "output_type": "execute_result"
    }
   ],
   "source": [
    "X_train.shape"
   ]
  },
  {
   "cell_type": "code",
   "execution_count": 8,
   "metadata": {},
   "outputs": [
    {
     "name": "stdout",
     "output_type": "stream",
     "text": [
      "\n",
      "                                       ( MODEL SUMMARY )                                \n",
      "        \n",
      "        ==================================================================================\n",
      "               Layer        Activation Function     Output Shape           Params       \n",
      "        ==================================================================================\n",
      "\n",
      "               Input               linear           (None, 784)              0          \n",
      "        ----------------------------------------------------------------------------------\n",
      "\n",
      "               Dense                tanh             (None, 10)             7850        \n",
      "        ----------------------------------------------------------------------------------\n",
      "\n",
      "               Output             softmax            (None, 10)             110         \n",
      "        ----------------------------------------------------------------------------------\n",
      "\n",
      "        ==================================================================================\n",
      "\n",
      "        Total Params (trainable) - 7960\n",
      "        __________________________________________________________________________________\n",
      "        \n",
      "Loss: 1.29421104 =================> at epoch 1, elapse-time : 10.34339210 seconds\n",
      "Loss: 0.83869435 =================> at epoch 2, elapse-time : 10.73258120 seconds\n",
      "Loss: 0.71645995 =================> at epoch 3, elapse-time : 10.95223710 seconds\n",
      "Loss: 0.66027620 =================> at epoch 4, elapse-time : 11.46040450 seconds\n",
      "Loss: 0.62032987 =================> at epoch 5, elapse-time : 11.34611710 seconds\n",
      "Loss: 0.59893642 =================> at epoch 6, elapse-time : 12.42135030 seconds\n",
      "Loss: 0.60429375 =================> at epoch 7, elapse-time : 11.82438790 seconds\n",
      "Loss: 0.55610933 =================> at epoch 8, elapse-time : 11.69388050 seconds\n",
      "Loss: 0.53003221 =================> at epoch 9, elapse-time : 11.46272540 seconds\n",
      "Loss: 0.53458793 =================> at epoch 10, elapse-time : 11.81914190 seconds\n",
      "Loss: 0.51733386 =================> at epoch 11, elapse-time : 11.94722820 seconds\n",
      "Loss: 0.52521970 =================> at epoch 12, elapse-time : 12.05149750 seconds\n",
      "Loss: 0.52856230 =================> at epoch 13, elapse-time : 12.02937350 seconds\n",
      "Loss: 0.52453416 =================> at epoch 14, elapse-time : 12.02989470 seconds\n",
      "Loss: 0.51871700 =================> at epoch 15, elapse-time : 11.90544740 seconds\n",
      "Loss: 0.51475698 =================> at epoch 16, elapse-time : 11.81745620 seconds\n",
      "Loss: 0.52563808 =================> at epoch 17, elapse-time : 12.18653500 seconds\n",
      "Loss: 0.50388673 =================> at epoch 18, elapse-time : 11.43920780 seconds\n",
      "Loss: 0.51118762 =================> at epoch 19, elapse-time : 11.96125100 seconds\n",
      "Loss: 0.50587662 =================> at epoch 20, elapse-time : 15.00980650 seconds\n",
      "Loss: 0.50677837 =================> at epoch 21, elapse-time : 13.41611000 seconds\n",
      "Loss: 0.49373477 =================> at epoch 22, elapse-time : 12.55188670 seconds\n",
      "Loss: 0.49701825 =================> at epoch 23, elapse-time : 12.55131070 seconds\n",
      "Loss: 0.48309397 =================> at epoch 24, elapse-time : 14.31928670 seconds\n",
      "Loss: 0.47985364 =================> at epoch 25, elapse-time : 12.09606870 seconds\n",
      "\n",
      "Final Minimised Loss : 0.4798536390068824\n",
      "\n",
      "Training complete!! , Average Elapse-Time (per epoch) : 12.05474314 seconds\n",
      "========================================================================= :)\n"
     ]
    },
    {
     "data": {
      "text/plain": [
       "0.8497619047619047"
      ]
     },
     "execution_count": 8,
     "metadata": {},
     "output_type": "execute_result"
    },
    {
     "data": {
      "image/png": "[encoded data removed]",
      "text/plain": [
       "<Figure size 640x480 with 1 Axes>"
      ]
     },
     "metadata": {},
     "output_type": "display_data"
    }
   ],
   "source": [
    "model = MultiLayerNeuralNetwork()\n",
    "model.add_layer(784,input_layer=True)\n",
    "model.add_layer(10,activation_function='tanh')\n",
    "model.add_layer(10,activation_function='softmax',output_layer=True)\n",
    "model.add_optimizer('Adam')\n",
    "model.compile_model(loss_function='categorical_cross_entropy',weight_initializer='glorot_uniform',seed=3)\n",
    "losses=model.fit(X_train, Y_train,learning_rate=0.001,epochs=25,show_loss=True,early_stopping=False)\n",
    "Y_pred = model.predict(X_test)\n",
    "plt.plot(model.history['Losses'])\n",
    "Y_p = np.argmax(Y_pred,axis=1)\n",
    "Y_t= np.argmax(Y_test,axis=1)\n",
    "accuracy_score(Y_t, Y_p)\n"
   ]
  },
  {
   "cell_type": "code",
   "execution_count": 9,
   "metadata": {},
   "outputs": [
    {
     "name": "stdout",
     "output_type": "stream",
     "text": [
      "Model: \"sequential\"\n",
      "_________________________________________________________________\n",
      " Layer (type)                Output Shape              Param #   \n",
      "=================================================================\n",
      " dense (Dense)               (None, 10)                7850      \n",
      "                                                                 \n",
      " dense_1 (Dense)             (None, 10)                110       \n",
      "                                                                 \n",
      "=================================================================\n",
      "Total params: 7,960\n",
      "Trainable params: 7,960\n",
      "Non-trainable params: 0\n",
      "_________________________________________________________________\n",
      "Epoch 1/25\n",
      "1050/1050 [==============================] - 2s 2ms/step - loss: 1.5164 - mse: 0.0655\n",
      "Epoch 2/25\n",
      "1050/1050 [==============================] - 2s 2ms/step - loss: 0.9222 - mse: 0.0419\n",
      "Epoch 3/25\n",
      "1050/1050 [==============================] - 2s 2ms/step - loss: 0.7774 - mse: 0.0353\n",
      "Epoch 4/25\n",
      "1050/1050 [==============================] - 2s 2ms/step - loss: 0.7409 - mse: 0.0337\n",
      "Epoch 5/25\n",
      "1050/1050 [==============================] - 2s 2ms/step - loss: 0.6632 - mse: 0.0301\n",
      "Epoch 6/25\n",
      "1050/1050 [==============================] - 2s 2ms/step - loss: 0.6393 - mse: 0.0288\n",
      "Epoch 7/25\n",
      "1050/1050 [==============================] - 2s 2ms/step - loss: 0.6495 - mse: 0.0294\n",
      "Epoch 8/25\n",
      "1050/1050 [==============================] - 2s 2ms/step - loss: 0.6140 - mse: 0.0279\n",
      "Epoch 9/25\n",
      "1050/1050 [==============================] - 2s 2ms/step - loss: 0.6171 - mse: 0.0281\n",
      "Epoch 10/25\n",
      "1050/1050 [==============================] - 2s 2ms/step - loss: 0.6236 - mse: 0.0285\n",
      "Epoch 11/25\n",
      "1050/1050 [==============================] - 2s 2ms/step - loss: 0.5438 - mse: 0.0246\n",
      "Epoch 12/25\n",
      "1050/1050 [==============================] - 2s 2ms/step - loss: 0.5856 - mse: 0.0267\n",
      "Epoch 13/25\n",
      "1050/1050 [==============================] - 2s 2ms/step - loss: 0.5624 - mse: 0.0253\n",
      "Epoch 14/25\n",
      "1050/1050 [==============================] - 2s 2ms/step - loss: 0.5832 - mse: 0.0265\n",
      "Epoch 15/25\n",
      "1050/1050 [==============================] - 2s 2ms/step - loss: 0.5447 - mse: 0.0244\n",
      "Epoch 16/25\n",
      "1050/1050 [==============================] - 2s 2ms/step - loss: 0.5535 - mse: 0.0248\n",
      "Epoch 17/25\n",
      "1050/1050 [==============================] - 2s 2ms/step - loss: 0.5255 - mse: 0.0233\n",
      "Epoch 18/25\n",
      "1050/1050 [==============================] - 2s 2ms/step - loss: 0.5418 - mse: 0.0242\n",
      "Epoch 19/25\n",
      "1050/1050 [==============================] - 2s 2ms/step - loss: 0.5356 - mse: 0.0237\n",
      "Epoch 20/25\n",
      "1050/1050 [==============================] - 2s 2ms/step - loss: 0.5717 - mse: 0.0259\n",
      "Epoch 21/25\n",
      "1050/1050 [==============================] - 2s 2ms/step - loss: 0.5256 - mse: 0.0235\n",
      "Epoch 22/25\n",
      "1050/1050 [==============================] - 2s 2ms/step - loss: 0.5041 - mse: 0.0222\n",
      "Epoch 23/25\n",
      "1050/1050 [==============================] - 2s 2ms/step - loss: 0.5308 - mse: 0.0233\n",
      "Epoch 24/25\n",
      "1050/1050 [==============================] - 3s 3ms/step - loss: 0.5125 - mse: 0.0227\n",
      "Epoch 25/25\n",
      "1050/1050 [==============================] - 3s 3ms/step - loss: 0.5229 - mse: 0.0234\n",
      "263/263 [==============================] - 1s 2ms/step\n"
     ]
    },
    {
     "data": {
      "text/plain": [
       "0.8442857142857143"
      ]
     },
     "execution_count": 9,
     "metadata": {},
     "output_type": "execute_result"
    },
    {
     "data": {
      "image/png": "[encoded data removed]",
      "text/plain": [
       "<Figure size 640x480 with 1 Axes>"
      ]
     },
     "metadata": {},
     "output_type": "display_data"
    }
   ],
   "source": [
    "import tensorflow\n",
    "from tensorflow import keras\n",
    "from keras import Sequential\n",
    "from keras.layers import Dense\n",
    "model = Sequential()\n",
    "initializer = keras.initializers.GlorotUniform(seed=3)\n",
    "model.add(Dense(10, activation='tanh', input_dim=784,kernel_initializer=initializer))\n",
    "model.add(Dense(10, activation='softmax',kernel_initializer=initializer))\n",
    "optimizer = keras.optimizers.Adam(learning_rate=0.001)\n",
    "model.compile(loss='CategoricalCrossentropy', metrics=['mse'],optimizer=optimizer)\n",
    "model.summary()\n",
    "history = model.fit(X_train, Y_train, epochs=25,verbose=1)\n",
    "Y_pred = model.predict(X_test)\n",
    "plt.plot(history.history['loss'])\n",
    "Y_p = np.argmax(Y_pred,axis=1)\n",
    "Y_t= np.argmax(Y_test,axis=1)\n",
    "accuracy_score(Y_t, Y_p)"
   ]
  },
  {
   "cell_type": "code",
   "execution_count": null,
   "metadata": {},
   "outputs": [],
   "source": []
  }
 ],
 "metadata": {
  "kernelspec": {
   "display_name": "Python 3.10.4 64-bit",
   "language": "python",
   "name": "python3"
  },
  "language_info": {
   "codemirror_mode": {
    "name": "ipython",
    "version": 3
   },
   "file_extension": ".py",
   "mimetype": "text/x-python",
   "name": "python",
   "nbconvert_exporter": "python",
   "pygments_lexer": "ipython3",
   "version": "3.10.4"
  },
  "orig_nbformat": 4,
  "vscode": {
   "interpreter": {
    "hash": "76d7c06053c3456e5600312cec90888656fc0ed30c03d8425b9dac6e4fc8e014"
   }
  }
 },
 "nbformat": 4,
 "nbformat_minor": 2
}
