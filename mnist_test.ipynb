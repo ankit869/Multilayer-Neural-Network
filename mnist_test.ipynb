{
 "cells": [
  {
   "cell_type": "code",
   "execution_count": 1,
   "metadata": {},
   "outputs": [],
   "source": [
    "import numpy as np\n",
    "import pandas as pd\n",
    "from mlp import MultiLayerNeuralNetwork"
   ]
  },
  {
   "cell_type": "code",
   "execution_count": 2,
   "metadata": {},
   "outputs": [],
   "source": [
    "from sklearn.model_selection import train_test_split\n",
    "from sklearn.metrics import accuracy_score\n",
    "df=pd.read_csv('./datasets/digit_pixels.csv')"
   ]
  },
  {
   "cell_type": "code",
   "execution_count": 3,
   "metadata": {},
   "outputs": [
    {
     "data": {
      "image/png": "[encoded data removed]",
      "text/plain": [
       "<Figure size 640x480 with 1 Axes>"
      ]
     },
     "metadata": {},
     "output_type": "display_data"
    },
    {
     "name": "stdout",
     "output_type": "stream",
     "text": [
      "label -->8\n"
     ]
    }
   ],
   "source": [
    "import plotly.express as px\n",
    "from matplotlib import pyplot as plt\n",
    "X = df.iloc[:, 1:].values\n",
    "Y = df.iloc[:, 0].values\n",
    "img = X[10].reshape(28,28)\n",
    "plt.imshow(img)\n",
    "plt.show()\n",
    "print('label -->'+str(Y[10]))\n",
    "Y=np.array(pd.get_dummies(Y))\n"
   ]
  },
  {
   "cell_type": "code",
   "execution_count": 4,
   "metadata": {},
   "outputs": [
    {
     "data": {
      "text/plain": [
       "(42000, 784)"
      ]
     },
     "execution_count": 4,
     "metadata": {},
     "output_type": "execute_result"
    }
   ],
   "source": [
    "X.shape"
   ]
  },
  {
   "cell_type": "code",
   "execution_count": 5,
   "metadata": {},
   "outputs": [],
   "source": [
    "X_train,X_test,Y_train,Y_test=train_test_split(X,Y,test_size=0.2)"
   ]
  },
  {
   "cell_type": "code",
   "execution_count": 6,
   "metadata": {},
   "outputs": [
    {
     "data": {
      "text/plain": [
       "(33600, 10)"
      ]
     },
     "execution_count": 6,
     "metadata": {},
     "output_type": "execute_result"
    }
   ],
   "source": [
    "Y_train.shape"
   ]
  },
  {
   "cell_type": "code",
   "execution_count": 7,
   "metadata": {},
   "outputs": [
    {
     "data": {
      "text/plain": [
       "(33600, 784)"
      ]
     },
     "execution_count": 7,
     "metadata": {},
     "output_type": "execute_result"
    }
   ],
   "source": [
    "X_train.shape"
   ]
  },
  {
   "cell_type": "code",
   "execution_count": 8,
   "metadata": {},
   "outputs": [
    {
     "name": "stdout",
     "output_type": "stream",
     "text": [
      "\n",
      "                                       ( MODEL SUMMARY )                                \n",
      "        \n",
      "        ==================================================================================\n",
      "               Layer        Activation Function     Output Shape           Params       \n",
      "        ==================================================================================\n",
      "\n",
      "               Input               linear           (None, 784)              0          \n",
      "        ----------------------------------------------------------------------------------\n",
      "\n",
      "               Dense                tanh             (None, 10)             7850        \n",
      "        ----------------------------------------------------------------------------------\n",
      "\n",
      "               Output             softmax            (None, 10)             110         \n",
      "        ----------------------------------------------------------------------------------\n",
      "\n",
      "        ==================================================================================\n",
      "\n",
      "        Total Params (trainable) - 7960\n",
      "        __________________________________________________________________________________\n",
      "        \n",
      "Loss: 1.31094623 =================> at epoch 1, elapse-time : 13.99284130 seconds\n",
      "Loss: 0.85172305 =================> at epoch 2, elapse-time : 19.30200190 seconds\n",
      "Loss: 0.73513256 =================> at epoch 3, elapse-time : 17.41356400 seconds\n",
      "Loss: 0.70325648 =================> at epoch 4, elapse-time : 15.71467440 seconds\n",
      "Loss: 0.65214607 =================> at epoch 5, elapse-time : 15.83376250 seconds\n",
      "Loss: 0.62512263 =================> at epoch 6, elapse-time : 16.40804400 seconds\n",
      "Loss: 0.59969072 =================> at epoch 7, elapse-time : 15.76627550 seconds\n",
      "Loss: 0.59131623 =================> at epoch 8, elapse-time : 14.85464570 seconds\n",
      "Loss: 0.59232314 =================> at epoch 9, elapse-time : 16.08566370 seconds\n",
      "Loss: 0.57256147 =================> at epoch 10, elapse-time : 15.86866520 seconds\n",
      "Loss: 0.55087525 =================> at epoch 11, elapse-time : 14.75694970 seconds\n",
      "Loss: 0.54909901 =================> at epoch 12, elapse-time : 14.81788710 seconds\n",
      "Loss: 0.54680243 =================> at epoch 13, elapse-time : 13.66789610 seconds\n",
      "Loss: 0.53777765 =================> at epoch 14, elapse-time : 14.56377480 seconds\n",
      "Loss: 0.51953526 =================> at epoch 15, elapse-time : 14.64342290 seconds\n",
      "Loss: 0.51976451 =================> at epoch 16, elapse-time : 16.76282030 seconds\n",
      "Loss: 0.52240704 =================> at epoch 17, elapse-time : 16.59270700 seconds\n",
      "Loss: 0.51014551 =================> at epoch 18, elapse-time : 15.80444900 seconds\n",
      "Loss: 0.50559541 =================> at epoch 19, elapse-time : 15.26856810 seconds\n",
      "Loss: 0.50558879 =================> at epoch 20, elapse-time : 13.87046750 seconds\n",
      "Loss: 0.49648106 =================> at epoch 21, elapse-time : 14.19326580 seconds\n",
      "Loss: 0.50479646 =================> at epoch 22, elapse-time : 14.29093800 seconds\n",
      "Loss: 0.50501512 =================> at epoch 23, elapse-time : 14.64024900 seconds\n",
      "Loss: 0.51023044 =================> at epoch 24, elapse-time : 15.10013730 seconds\n",
      "Loss: 0.49975430 =================> at epoch 25, elapse-time : 16.40789930 seconds\n",
      "\n",
      "Final Minimised Loss : 0.4997543044975203\n",
      "\n",
      "Training complete!! , Average Elapse-Time (per epoch) : 15.46486280 seconds\n",
      "========================================================================= :)\n"
     ]
    },
    {
     "data": {
      "text/plain": [
       "0.8469047619047619"
      ]
     },
     "execution_count": 8,
     "metadata": {},
     "output_type": "execute_result"
    },
    {
     "data": {
      "image/png": "[encoded data removed]",
      "text/plain": [
       "<Figure size 640x480 with 1 Axes>"
      ]
     },
     "metadata": {},
     "output_type": "display_data"
    }
   ],
   "source": [
    "model = MultiLayerNeuralNetwork()\n",
    "model.add_layer(784,input_layer=True)\n",
    "model.add_layer(10,activation_function='tanh')\n",
    "model.add_layer(10,activation_function='softmax',output_layer=True)\n",
    "model.add_optimizer('Adam')\n",
    "model.compile_model(loss_function='categorical_cross_entropy',weight_initializer='glorot_uniform',seed=3)\n",
    "losses=model.fit(X_train, Y_train,learning_rate=0.001,epochs=25,show_loss=True,early_stopping=False)\n",
    "Y_pred = model.predict(X_test)\n",
    "plt.plot(model.history['Losses'])\n",
    "Y_p = np.argmax(Y_pred,axis=1)\n",
    "Y_t= np.argmax(Y_test,axis=1)\n",
    "accuracy_score(Y_t, Y_p)\n"
   ]
  },
  {
   "cell_type": "code",
   "execution_count": 10,
   "metadata": {},
   "outputs": [
    {
     "name": "stdout",
     "output_type": "stream",
     "text": [
      "Model: \"sequential_1\"\n",
      "_________________________________________________________________\n",
      " Layer (type)                Output Shape              Param #   \n",
      "=================================================================\n",
      " dense_2 (Dense)             (None, 10)                7850      \n",
      "                                                                 \n",
      " dense_3 (Dense)             (None, 10)                110       \n",
      "                                                                 \n",
      "=================================================================\n",
      "Total params: 7,960\n",
      "Trainable params: 7,960\n",
      "Non-trainable params: 0\n",
      "_________________________________________________________________\n",
      "Epoch 1/25\n",
      "1050/1050 [==============================] - 5s 3ms/step - loss: 1.4940 - mse: 0.0640\n",
      "Epoch 2/25\n",
      "1050/1050 [==============================] - 3s 3ms/step - loss: 0.9080 - mse: 0.0414\n",
      "Epoch 3/25\n",
      "1050/1050 [==============================] - 3s 3ms/step - loss: 0.7990 - mse: 0.0371\n",
      "Epoch 4/25\n",
      "1050/1050 [==============================] - 3s 2ms/step - loss: 0.7252 - mse: 0.0336\n",
      "Epoch 5/25\n",
      "1050/1050 [==============================] - 3s 2ms/step - loss: 0.6776 - mse: 0.0313\n",
      "Epoch 6/25\n",
      "1050/1050 [==============================] - 3s 2ms/step - loss: 0.6567 - mse: 0.0304\n",
      "Epoch 7/25\n",
      "1050/1050 [==============================] - 3s 2ms/step - loss: 0.6569 - mse: 0.0304\n",
      "Epoch 8/25\n",
      "1050/1050 [==============================] - 3s 3ms/step - loss: 0.6629 - mse: 0.0305\n",
      "Epoch 9/25\n",
      "1050/1050 [==============================] - 3s 3ms/step - loss: 0.6071 - mse: 0.0277\n",
      "Epoch 10/25\n",
      "1050/1050 [==============================] - 3s 3ms/step - loss: 0.6055 - mse: 0.0275\n",
      "Epoch 11/25\n",
      "1050/1050 [==============================] - 2s 2ms/step - loss: 0.5870 - mse: 0.0264\n",
      "Epoch 12/25\n",
      "1050/1050 [==============================] - 3s 3ms/step - loss: 0.5812 - mse: 0.0260\n",
      "Epoch 13/25\n",
      "1050/1050 [==============================] - 3s 3ms/step - loss: 0.5904 - mse: 0.0265\n",
      "Epoch 14/25\n",
      "1050/1050 [==============================] - 3s 3ms/step - loss: 0.5711 - mse: 0.0259\n",
      "Epoch 15/25\n",
      "1050/1050 [==============================] - 2s 2ms/step - loss: 0.5931 - mse: 0.0273\n",
      "Epoch 16/25\n",
      "1050/1050 [==============================] - 2s 2ms/step - loss: 0.5462 - mse: 0.0245\n",
      "Epoch 17/25\n",
      "1050/1050 [==============================] - 3s 3ms/step - loss: 0.5635 - mse: 0.0254\n",
      "Epoch 18/25\n",
      "1050/1050 [==============================] - 3s 3ms/step - loss: 0.5666 - mse: 0.0253\n",
      "Epoch 19/25\n",
      "1050/1050 [==============================] - 3s 3ms/step - loss: 0.5221 - mse: 0.0232\n",
      "Epoch 20/25\n",
      "1050/1050 [==============================] - 3s 3ms/step - loss: 0.5585 - mse: 0.0251\n",
      "Epoch 21/25\n",
      "1050/1050 [==============================] - 2s 2ms/step - loss: 0.5297 - mse: 0.0235\n",
      "Epoch 22/25\n",
      "1050/1050 [==============================] - 3s 3ms/step - loss: 0.5167 - mse: 0.0231\n",
      "Epoch 23/25\n",
      "1050/1050 [==============================] - 3s 2ms/step - loss: 0.5212 - mse: 0.0233\n",
      "Epoch 24/25\n",
      "1050/1050 [==============================] - 3s 2ms/step - loss: 0.5064 - mse: 0.0226\n",
      "Epoch 25/25\n",
      "1050/1050 [==============================] - 3s 2ms/step - loss: 0.5073 - mse: 0.0228\n",
      "263/263 [==============================] - 1s 2ms/step\n"
     ]
    },
    {
     "data": {
      "text/plain": [
       "0.8501190476190477"
      ]
     },
     "execution_count": 10,
     "metadata": {},
     "output_type": "execute_result"
    },
    {
     "data": {
      "image/png": "[encoded data removed]",
      "text/plain": [
       "<Figure size 640x480 with 1 Axes>"
      ]
     },
     "metadata": {},
     "output_type": "display_data"
    }
   ],
   "source": [
    "import tensorflow\n",
    "from tensorflow import keras\n",
    "from keras import Sequential\n",
    "from keras.layers import Dense\n",
    "model = Sequential()\n",
    "initializer = keras.initializers.GlorotUniform(seed=3)\n",
    "model.add(Dense(10, activation='tanh', input_dim=784,kernel_initializer=initializer))\n",
    "model.add(Dense(10, activation='softmax',kernel_initializer=initializer))\n",
    "optimizer = keras.optimizers.Adam(learning_rate=0.001)\n",
    "model.compile(loss='CategoricalCrossentropy', metrics=['mse'],optimizer=optimizer)\n",
    "model.summary()\n",
    "history = model.fit(X_train, Y_train, epochs=25,verbose=1)\n",
    "Y_pred = model.predict(X_test)\n",
    "plt.plot(history.history['loss'])\n",
    "Y_p = np.argmax(Y_pred,axis=1)\n",
    "Y_t= np.argmax(Y_test,axis=1)\n",
    "accuracy_score(Y_t, Y_p)"
   ]
  },
  {
   "cell_type": "code",
   "execution_count": null,
   "metadata": {},
   "outputs": [
    {
     "data": {
      "text/plain": [
       "(33600, 784)"
      ]
     },
     "execution_count": 10,
     "metadata": {},
     "output_type": "execute_result"
    }
   ],
   "source": [
    "X_train.shape"
   ]
  },
  {
   "cell_type": "code",
   "execution_count": null,
   "metadata": {},
   "outputs": [],
   "source": []
  }
 ],
 "metadata": {
  "kernelspec": {
   "display_name": "Python 3.10.4 64-bit",
   "language": "python",
   "name": "python3"
  },
  "language_info": {
   "codemirror_mode": {
    "name": "ipython",
    "version": 3
   },
   "file_extension": ".py",
   "mimetype": "text/x-python",
   "name": "python",
   "nbconvert_exporter": "python",
   "pygments_lexer": "ipython3",
   "version": "3.10.4"
  },
  "orig_nbformat": 4,
  "vscode": {
   "interpreter": {
    "hash": "76d7c06053c3456e5600312cec90888656fc0ed30c03d8425b9dac6e4fc8e014"
   }
  }
 },
 "nbformat": 4,
 "nbformat_minor": 2
}
