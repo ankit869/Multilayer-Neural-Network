{
 "cells": [
  {
   "cell_type": "code",
   "execution_count": 1,
   "metadata": {},
   "outputs": [],
   "source": [
    "import numpy as np\n",
    "import pandas as pd\n",
    "from mlp import MultiLayerNeuralNetwork"
   ]
  },
  {
   "cell_type": "code",
   "execution_count": 2,
   "metadata": {},
   "outputs": [],
   "source": [
    "from sklearn.model_selection import train_test_split\n",
    "from sklearn.metrics import accuracy_score\n",
    "df=pd.read_csv('./datasets/digit_pixels.csv')"
   ]
  },
  {
   "cell_type": "code",
   "execution_count": 3,
   "metadata": {},
   "outputs": [
    {
     "data": {
      "image/png": "[encoded data removed]",
      "text/plain": [
       "<Figure size 640x480 with 1 Axes>"
      ]
     },
     "metadata": {},
     "output_type": "display_data"
    },
    {
     "name": "stdout",
     "output_type": "stream",
     "text": [
      "label -->8\n"
     ]
    }
   ],
   "source": [
    "import plotly.express as px\n",
    "from matplotlib import pyplot as plt\n",
    "X = df.iloc[:, 1:].values\n",
    "Y = df.iloc[:, 0].values\n",
    "img = X[10].reshape(28,28)\n",
    "plt.imshow(img)\n",
    "plt.show()\n",
    "print('label -->'+str(Y[10]))\n",
    "Y=np.array(pd.get_dummies(Y))\n"
   ]
  },
  {
   "cell_type": "code",
   "execution_count": 4,
   "metadata": {},
   "outputs": [
    {
     "data": {
      "text/plain": [
       "(42000, 784)"
      ]
     },
     "execution_count": 4,
     "metadata": {},
     "output_type": "execute_result"
    }
   ],
   "source": [
    "X.shape"
   ]
  },
  {
   "cell_type": "code",
   "execution_count": 5,
   "metadata": {},
   "outputs": [],
   "source": [
    "X_train,X_test,Y_train,Y_test=train_test_split(X,Y,test_size=0.2)\n"
   ]
  },
  {
   "cell_type": "code",
   "execution_count": 6,
   "metadata": {},
   "outputs": [
    {
     "data": {
      "text/plain": [
       "(33600, 10)"
      ]
     },
     "execution_count": 6,
     "metadata": {},
     "output_type": "execute_result"
    }
   ],
   "source": [
    "Y_train.shape"
   ]
  },
  {
   "cell_type": "code",
   "execution_count": 7,
   "metadata": {},
   "outputs": [
    {
     "data": {
      "text/plain": [
       "(33600, 784)"
      ]
     },
     "execution_count": 7,
     "metadata": {},
     "output_type": "execute_result"
    }
   ],
   "source": [
    "X_train.shape"
   ]
  },
  {
   "cell_type": "code",
   "execution_count": 8,
   "metadata": {},
   "outputs": [
    {
     "name": "stdout",
     "output_type": "stream",
     "text": [
      "\n",
      "                                       ( MODEL SUMMARY )                                \n",
      "\n",
      "        ==================================================================================\n",
      "               Layer        Activation Function        Nodes               Params       \n",
      "        ==================================================================================\n",
      "\n",
      "               Input               linear               784                  0          \n",
      "        ----------------------------------------------------------------------------------\n",
      "\n",
      "               Dense                tanh                 10                 7850        \n",
      "        ----------------------------------------------------------------------------------\n",
      "\n",
      "               Output             softmax                10                 110         \n",
      "        ----------------------------------------------------------------------------------\n",
      "\n",
      "        ==================================================================================\n",
      "\n",
      "        Total Params (trainable) - 7960\n",
      "        __________________________________________________________________________________\n",
      "        \n",
      "Loss: 1.73473076 =================> at epoch 1, elapse-time : 10.41771600 seconds\n",
      "Loss: 1.05348738 =================> at epoch 2, elapse-time : 8.92459190 seconds\n",
      "Loss: 0.82245179 =================> at epoch 3, elapse-time : 8.79630010 seconds\n",
      "Loss: 0.70829928 =================> at epoch 4, elapse-time : 8.92371900 seconds\n",
      "Loss: 0.65628154 =================> at epoch 5, elapse-time : 10.21426020 seconds\n",
      "Loss: 0.62313282 =================> at epoch 6, elapse-time : 9.51986900 seconds\n",
      "Loss: 0.60634391 =================> at epoch 7, elapse-time : 9.46885240 seconds\n",
      "Loss: 0.58602197 =================> at epoch 8, elapse-time : 8.79391820 seconds\n",
      "Loss: 0.57312717 =================> at epoch 9, elapse-time : 8.67119720 seconds\n",
      "Loss: 0.56449779 =================> at epoch 10, elapse-time : 8.57711180 seconds\n",
      "Loss: 0.55787184 =================> at epoch 11, elapse-time : 8.68229580 seconds\n",
      "Loss: 0.55375230 =================> at epoch 12, elapse-time : 8.63454810 seconds\n",
      "Loss: 0.55395552 =================> at epoch 13, elapse-time : 8.76134100 seconds\n",
      "Loss: 0.56001525 =================> at epoch 14, elapse-time : 9.38469850 seconds\n",
      "Loss: 0.56051234 =================> at epoch 15, elapse-time : 9.20177770 seconds\n",
      "Loss: 0.56758228 =================> at epoch 16, elapse-time : 11.32414730 seconds\n",
      "Loss: 0.56647717 =================> at epoch 17, elapse-time : 9.69146450 seconds\n",
      "Loss: 0.56919487 =================> at epoch 18, elapse-time : 9.22404950 seconds\n",
      "Loss: 0.57219229 =================> at epoch 19, elapse-time : 9.15224250 seconds\n",
      "Loss: 0.56931334 =================> at epoch 20, elapse-time : 9.52159570 seconds\n",
      "Loss: 0.56133055 =================> at epoch 21, elapse-time : 9.52352400 seconds\n",
      "Loss: 0.56171979 =================> at epoch 22, elapse-time : 9.75102460 seconds\n",
      "Loss: 0.55949533 =================> at epoch 23, elapse-time : 9.20662250 seconds\n",
      "Loss: 0.55828915 =================> at epoch 24, elapse-time : 9.08516000 seconds\n",
      "Loss: 0.54877638 =================> at epoch 25, elapse-time : 9.32491240 seconds\n",
      "\n",
      "Final Minimised Loss : 0.5487763759200661\n",
      "\n",
      "Training complete!! , Average Elapse-Time (per epoch) : 9.31107760 seconds\n",
      "========================================================================= :)\n"
     ]
    },
    {
     "data": {
      "text/plain": [
       "0.8509523809523809"
      ]
     },
     "execution_count": 8,
     "metadata": {},
     "output_type": "execute_result"
    },
    {
     "data": {
      "image/png": "[encoded data removed]",
      "text/plain": [
       "<Figure size 640x480 with 1 Axes>"
      ]
     },
     "metadata": {},
     "output_type": "display_data"
    }
   ],
   "source": [
    "model = MultiLayerNeuralNetwork()\n",
    "model.add_layer(784,input_layer=True)\n",
    "model.add_layer(10,activation_function='tanh')\n",
    "model.add_layer(10,activation_function='softmax',output_layer=True)\n",
    "model.add_optimizer('RMSprop')\n",
    "model.compile_model(loss_function='categorical_cross_entropy',weight_initializer='glorot_uniform',seed=3)\n",
    "losses=model.fit(X_train, Y_train,learning_rate=0.0001,epochs=25,show_loss=True,early_stopping=False)\n",
    "Y_pred = model.predict(X_test)\n",
    "plt.plot(model.history['Losses'])\n",
    "Y_p = np.argmax(Y_pred,axis=1)\n",
    "Y_t= np.argmax(Y_test,axis=1)\n",
    "accuracy_score(Y_t, Y_p)\n"
   ]
  },
  {
   "cell_type": "code",
   "execution_count": 9,
   "metadata": {},
   "outputs": [
    {
     "name": "stdout",
     "output_type": "stream",
     "text": [
      "Model: \"sequential\"\n",
      "_________________________________________________________________\n",
      " Layer (type)                Output Shape              Param #   \n",
      "=================================================================\n",
      " dense (Dense)               (None, 10)                7850      \n",
      "                                                                 \n",
      " dense_1 (Dense)             (None, 10)                110       \n",
      "                                                                 \n",
      "=================================================================\n",
      "Total params: 7,960\n",
      "Trainable params: 7,960\n",
      "Non-trainable params: 0\n",
      "_________________________________________________________________\n",
      "263/263 [==============================] - 0s 1ms/step\n"
     ]
    },
    {
     "data": {
      "text/plain": [
       "0.8563095238095239"
      ]
     },
     "execution_count": 9,
     "metadata": {},
     "output_type": "execute_result"
    },
    {
     "data": {
      "image/png": "[encoded data removed]",
      "text/plain": [
       "<Figure size 640x480 with 1 Axes>"
      ]
     },
     "metadata": {},
     "output_type": "display_data"
    }
   ],
   "source": [
    "import tensorflow\n",
    "from tensorflow import keras\n",
    "from keras import Sequential\n",
    "from keras.layers import Dense\n",
    "model = Sequential()\n",
    "initializer = keras.initializers.GlorotUniform(seed=3)\n",
    "model.add(Dense(10, activation='tanh', input_dim=784,kernel_initializer=initializer))\n",
    "model.add(Dense(10, activation='softmax',kernel_initializer=initializer))\n",
    "model.compile(loss='CategoricalCrossentropy', metrics=['mse'])\n",
    "model.summary()\n",
    "history = model.fit(X_train, Y_train, epochs=25,verbose=0)\n",
    "Y_pred = model.predict(X_test)\n",
    "plt.plot(history.history['loss'])\n",
    "Y_p = np.argmax(Y_pred,axis=1)\n",
    "Y_t= np.argmax(Y_test,axis=1)\n",
    "accuracy_score(Y_t, Y_p)"
   ]
  },
  {
   "cell_type": "code",
   "execution_count": null,
   "metadata": {},
   "outputs": [],
   "source": []
  }
 ],
 "metadata": {
  "kernelspec": {
   "display_name": "Python 3.10.4 64-bit",
   "language": "python",
   "name": "python3"
  },
  "language_info": {
   "codemirror_mode": {
    "name": "ipython",
    "version": 3
   },
   "file_extension": ".py",
   "mimetype": "text/x-python",
   "name": "python",
   "nbconvert_exporter": "python",
   "pygments_lexer": "ipython3",
   "version": "3.10.4"
  },
  "orig_nbformat": 4,
  "vscode": {
   "interpreter": {
    "hash": "76d7c06053c3456e5600312cec90888656fc0ed30c03d8425b9dac6e4fc8e014"
   }
  }
 },
 "nbformat": 4,
 "nbformat_minor": 2
}
